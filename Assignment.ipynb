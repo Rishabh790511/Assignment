{
 "cells": [
  {
   "cell_type": "code",
   "execution_count": 1,
   "id": "575b2eb9-de6f-4527-b5a8-7a11db3a1497",
   "metadata": {
    "tags": []
   },
   "outputs": [],
   "source": [
    "# (i) String\n",
    "string_var = \"Hello, world!\"\n",
    "\n",
    "# (ii) List\n",
    "list_var = [1, 2, 3, 4, 5]\n",
    "\n",
    "# (iii) Float\n",
    "float_var = 3.14\n",
    "\n",
    "# (iv) Tuple\n",
    "tuple_var = (6, 7, 8, 9, 10)\n"
   ]
  },
  {
   "cell_type": "code",
   "execution_count": 2,
   "id": "9123e015-5832-4cf5-a8fd-9b18b451696a",
   "metadata": {
    "tags": []
   },
   "outputs": [],
   "source": [
    "#Q2\n",
    "# (i) var1: Empty string\n",
    "#     Data type: str\n",
    "\n",
    "# (ii) var2: String containing a list as text\n",
    "#     Data type: str\n",
    "\n",
    "# (iii) var3: List of strings\n",
    "#     Data type: list\n",
    "\n",
    "# (iv) var4: Floating-point number\n",
    "#     Data type: float\n"
   ]
  },
  {
   "cell_type": "code",
   "execution_count": 3,
   "id": "e227b771-7603-4a5c-8d2f-aecd32d7c2bf",
   "metadata": {
    "tags": []
   },
   "outputs": [
    {
     "name": "stdout",
     "output_type": "stream",
     "text": [
      "3.3333333333333335\n",
      "1\n",
      "3\n",
      "8\n"
     ]
    }
   ],
   "source": [
    "#Q3\n",
    "# (i) / : Division Operator\n",
    "result = 10 / 3\n",
    "print(result)  # Output: 3.3333333333333335\n",
    "\n",
    "# (ii) % : Modulus Operator (Returns the remainder of the division)\n",
    "remainder = 10 % 3\n",
    "print(remainder)  # Output: 1\n",
    "\n",
    "# (iii) // : Floor Division Operator (Returns the quotient of the division, discarding any fractional part)\n",
    "quotient = 10 // 3\n",
    "print(quotient)  # Output: 3\n",
    "\n",
    "# (iv) ** : Exponentiation Operator (Raises the first operand to the power of the second operand)\n",
    "result = 2 ** 3\n",
    "print(result)  # Output: 8\n"
   ]
  },
  {
   "cell_type": "code",
   "execution_count": 4,
   "id": "565e0f97-1a58-4fbc-b81a-61bb3080eb48",
   "metadata": {
    "tags": []
   },
   "outputs": [
    {
     "name": "stdout",
     "output_type": "stream",
     "text": [
      "10 <class 'int'>\n",
      "Hello <class 'str'>\n",
      "3.14 <class 'float'>\n",
      "True <class 'bool'>\n",
      "[1, 2, 3] <class 'list'>\n",
      "(4, 5) <class 'tuple'>\n",
      "{'a': 1, 'b': 2} <class 'dict'>\n",
      "None <class 'NoneType'>\n",
      "7.5 <class 'float'>\n",
      "False <class 'bool'>\n"
     ]
    }
   ],
   "source": [
    "#Q4\n",
    "my_list = [10, \"Hello\", 3.14, True, [1, 2, 3], (4, 5), {'a': 1, 'b': 2}, None, 7.5, False]\n",
    "\n",
    "for element in my_list:\n",
    "    print(element, type(element))\n"
   ]
  },
  {
   "cell_type": "code",
   "execution_count": 5,
   "id": "ed81c29f-6316-43bd-aa00-c791a963054c",
   "metadata": {
    "tags": []
   },
   "outputs": [
    {
     "name": "stdout",
     "output_type": "stream",
     "text": [
      "A is divisible by B 1 times.\n"
     ]
    }
   ],
   "source": [
    "#Q5\n",
    "A = 15\n",
    "B = 3\n",
    "count = 0\n",
    "\n",
    "while A % B == 0:\n",
    "    A /= B\n",
    "    count += 1\n",
    "\n",
    "print(\"A is divisible by B\", count, \"times.\")\n",
    "\n"
   ]
  },
  {
   "cell_type": "code",
   "execution_count": 6,
   "id": "8abcfef1-8a94-4cd6-988e-66c7deaa9227",
   "metadata": {
    "tags": []
   },
   "outputs": [
    {
     "name": "stdout",
     "output_type": "stream",
     "text": [
      "10 is not divisible by 3.\n",
      "15 is divisible by 3.\n",
      "20 is not divisible by 3.\n",
      "25 is not divisible by 3.\n",
      "30 is divisible by 3.\n",
      "35 is not divisible by 3.\n",
      "40 is not divisible by 3.\n",
      "45 is divisible by 3.\n",
      "50 is not divisible by 3.\n",
      "55 is not divisible by 3.\n",
      "60 is divisible by 3.\n",
      "65 is not divisible by 3.\n",
      "70 is not divisible by 3.\n",
      "75 is divisible by 3.\n",
      "80 is not divisible by 3.\n",
      "85 is not divisible by 3.\n",
      "90 is divisible by 3.\n",
      "95 is not divisible by 3.\n",
      "100 is not divisible by 3.\n",
      "105 is divisible by 3.\n",
      "110 is not divisible by 3.\n",
      "115 is not divisible by 3.\n",
      "120 is divisible by 3.\n",
      "125 is not divisible by 3.\n",
      "130 is not divisible by 3.\n"
     ]
    }
   ],
   "source": [
    "#Q6\n",
    "int_list = [10, 15, 20, 25, 30, 35, 40, 45, 50, 55, 60, 65, 70, 75, 80, 85, 90, 95, 100, 105, 110, 115, 120, 125, 130]\n",
    "\n",
    "for num in int_list:\n",
    "    if num % 3 == 0:\n",
    "        print(num, \"is divisible by 3.\")\n",
    "    else:\n",
    "        print(num, \"is not divisible by 3.\")\n"
   ]
  },
  {
   "cell_type": "code",
   "execution_count": 7,
   "id": "1a395632-d8ad-46cd-89b4-87fd7fdcfed3",
   "metadata": {
    "tags": []
   },
   "outputs": [
    {
     "name": "stdout",
     "output_type": "stream",
     "text": [
      "[10, 2, 3]\n",
      "[10, 2, 3]\n"
     ]
    }
   ],
   "source": [
    "#Q7# Example of Mutable Data Type (List)\n",
    "my_list = [1, 2, 3]\n",
    "my_list[0] = 10\n",
    "print(my_list)  # Output: [10, 2, 3]\n",
    "\n",
    "# Example of Mutable Data Type (List)\n",
    "my_list = [1, 2, 3]\n",
    "my_list[0] = 10\n",
    "print(my_list)  # Output: [10, 2, 3]\n",
    "\n"
   ]
  },
  {
   "cell_type": "code",
   "execution_count": 8,
   "id": "c9b9e71f-6be0-449c-94f9-8dd7adaa346e",
   "metadata": {
    "tags": []
   },
   "outputs": [
    {
     "ename": "TypeError",
     "evalue": "'tuple' object does not support item assignment",
     "output_type": "error",
     "traceback": [
      "\u001b[1;31m---------------------------------------------------------------------------\u001b[0m",
      "\u001b[1;31mTypeError\u001b[0m                                 Traceback (most recent call last)",
      "Cell \u001b[1;32mIn[8], line 3\u001b[0m\n\u001b[0;32m      1\u001b[0m \u001b[38;5;66;03m# Example of Immutable Data Type (Tuple)\u001b[39;00m\n\u001b[0;32m      2\u001b[0m my_tuple \u001b[38;5;241m=\u001b[39m (\u001b[38;5;241m1\u001b[39m, \u001b[38;5;241m2\u001b[39m, \u001b[38;5;241m3\u001b[39m)\n\u001b[1;32m----> 3\u001b[0m my_tuple[\u001b[38;5;241m0\u001b[39m] \u001b[38;5;241m=\u001b[39m \u001b[38;5;241m10\u001b[39m\n",
      "\u001b[1;31mTypeError\u001b[0m: 'tuple' object does not support item assignment"
     ]
    }
   ],
   "source": [
    "# Example of Immutable Data Type (Tuple)\n",
    "my_tuple = (1, 2, 3)\n",
    "my_tuple[0] = 10  # This will raise an error since tuples are immutable\n"
   ]
  },
  {
   "cell_type": "code",
   "execution_count": null,
   "id": "f93b14d5-1207-4419-bc87-50d0d036902c",
   "metadata": {},
   "outputs": [],
   "source": []
  }
 ],
 "metadata": {
  "kernelspec": {
   "display_name": "Python 3 (ipykernel)",
   "language": "python",
   "name": "python3"
  },
  "language_info": {
   "codemirror_mode": {
    "name": "ipython",
    "version": 3
   },
   "file_extension": ".py",
   "mimetype": "text/x-python",
   "name": "python",
   "nbconvert_exporter": "python",
   "pygments_lexer": "ipython3",
   "version": "3.11.5"
  }
 },
 "nbformat": 4,
 "nbformat_minor": 5
}
